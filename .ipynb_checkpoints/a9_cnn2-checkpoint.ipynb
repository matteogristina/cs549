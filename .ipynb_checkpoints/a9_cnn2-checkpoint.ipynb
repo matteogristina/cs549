{
 "cells": [
  {
   "cell_type": "markdown",
   "metadata": {},
   "source": [
    "# CS549 Machine Learning \n",
    "# Assignment 9: Convolutional Neural Network (Part 2) -- ConvNet for image classificaion\n",
    "\n",
    "**Total points: 10**\n",
    "\n",
    "In this assignment, you will implement a fully functioning ConvNet model using PyTorch. You will use the model to conduct image classification on the FashionMNST dataset."
   ]
  },
  {
   "cell_type": "code",
   "execution_count": 1,
   "metadata": {},
   "outputs": [],
   "source": [
    "import numpy as np\n",
    "import matplotlib.pyplot as plt\n",
    "from tqdm import tqdm\n",
    "\n",
    "# PyTorch is needed for this assignment\n",
    "# You can install it following the instructions on the official website: https://pytorch.org/get-started/locally/\n",
    "import torch\n",
    "import torch.nn as nn\n",
    "import torch.nn.functional as F\n",
    "torch.manual_seed(0)\n",
    "torch.use_deterministic_algorithms(True)\n",
    "\n",
    "from torch.utils.data import DataLoader\n",
    "from torchvision import datasets\n",
    "from torchvision.transforms import ToTensor\n",
    "\n",
    "%matplotlib inline\n",
    "np.random.seed(1)"
   ]
  },
  {
   "cell_type": "markdown",
   "metadata": {},
   "source": [
    "## Load data\n",
    "\n",
    "Load the FashionMNIST dataset provided by PyTorch. You can also change the `download` param to `False`, and copy the \"data\" folder used in the previous assignment to the current folder.\n",
    "\n",
    "See <https://pytorch.org/docs/stable/data.html#torch.utils.data.DataLoader> for more information."
   ]
  },
  {
   "cell_type": "code",
   "execution_count": 2,
   "metadata": {
    "pycharm": {
     "name": "#%%\n"
    }
   },
   "outputs": [],
   "source": [
    "training_data = datasets.FashionMNIST(\n",
    "    root=\"data\",\n",
    "    train=True, # True\n",
    "    download=True,\n",
    "    transform=ToTensor()\n",
    ")\n",
    "\n",
    "test_data = datasets.FashionMNIST(\n",
    "    root=\"data\",\n",
    "    train=False, # False\n",
    "    download=True,\n",
    "    transform=ToTensor()\n",
    ")\n",
    "\n",
    "batch_size = 64\n",
    "\n",
    "train_loader = DataLoader(training_data, batch_size=batch_size)\n",
    "test_loader = DataLoader(test_data, batch_size=batch_size)"
   ]
  },
  {
   "cell_type": "markdown",
   "metadata": {},
   "source": [
    "## Examine data size\n",
    "\n",
    "Now, you can examine the size of the training/test data, which is important for determining some of the parameters of your model"
   ]
  },
  {
   "cell_type": "code",
   "execution_count": 3,
   "metadata": {
    "pycharm": {
     "name": "#%%\n"
    }
   },
   "outputs": [
    {
     "name": "stdout",
     "output_type": "stream",
     "text": [
      "X.shape:  torch.Size([64, 1, 28, 28])\n",
      "Y.shape:  torch.Size([64])\n"
     ]
    }
   ],
   "source": [
    "for i, (X, y) in enumerate(train_loader):\n",
    "    if i > 0:\n",
    "        break\n",
    "\n",
    "print('X.shape: ', X.shape)\n",
    "print('Y.shape: ', y.shape)"
   ]
  },
  {
   "cell_type": "markdown",
   "metadata": {},
   "source": [
    "**Expected output**:\n",
    "\n",
    "X.shape:  torch.Size([64, 1, 28, 28])\n",
    "y.shape:  torch.Size([64])"
   ]
  },
  {
   "cell_type": "markdown",
   "metadata": {},
   "source": [
    "***\n",
    "\n",
    "## Task 1. Build the model\n",
    "**8 points**\n",
    "\n",
    "You will need to define your ConvNet model as a subclass of `torch.nn.Module`. Becuase we have already imported `torch.nn` as `nn`, we can specify the baseclass simply as `nn.Module`.\n",
    "\n",
    "You need to override two functions in defining the class, `__init__()` and `forward()`.\n",
    "- All the parameters, including the convolutional, pooling, and fully-connected layers are defined in `__init__()`. They are declared and initialized as members of the class, using the `self.` notation in Python. \n",
    "- The forward pass of the computational graph is defined in `forward()`. This function takes as input the training data, and call all operations (conv, pool, etc.) sequentially on the data. The output of a preceding operation is used as the input for the following operation. \n",
    "\n",
    "**Instructions:**\n",
    "\n",
    "- Define the model so that the architecture is as follows: <br>\n",
    "    Conv1 -> ReLU -> BatchNorm-> MaxPool1 -> \\\n",
    "    Conv2 -> ReLU -> BatchNorm-> MaxPool2 -> \\\n",
    "    FullyConnected -> Softmax.\n",
    "  <br> in which,\\\n",
    "    - `conv1` has filter size $f=3$, stride $s=1$, padding $p=0$, the number of filters $n_f=6$\n",
    "    - `conv2` has filter  $f=3$, stride $s=2$, padding $p=0$, the number of filters $n_f=12$;\n",
    "    - all max-pool layers use filter  $f=2$ (stride $s=2$ by default).\n",
    "  <br>\n",
    "- *Note* that the *RELU* activation function is implemented in `forward()` rather than `__init__()`, using `F.relu()`, in which `F` is short for `torch.nn.functional` (imported at the beginning).\n",
    "\n",
    "- The `in_features` of `self.fc` is the total number of output units after the `self.pool2` layer.\n",
    "- The `out_features` of `self.fc` should match the number of classes in FashionMNIST dataset, which is 10.\n",
    "- Use the following formula to compute the height and width of ouputs from conv layers.\n",
    "\\begin{equation}\\text{Output} = (\\lfloor\\frac{n+2p-f}{s}\\rfloor + 1)\\times(\\lfloor\\frac{n+2p-f}{s}\\rfloor + 1)\\end{equation}\n",
    "- For the output of model, need to use `nn.logSoftmax()`."
   ]
  },
  {
   "cell_type": "code",
   "execution_count": 5,
   "metadata": {},
   "outputs": [],
   "source": [
    "class ConvNetModel(nn.Module):\n",
    "    def __init__(self, debug=True):\n",
    "        super(ConvNetModel, self).__init__()\n",
    "        self.debug = debug\n",
    "\n",
    "        ### START YOUR CODE ###\n",
    "        # The first convolutional layer has in_channels=1, out_channels=6, kernel_size=3, with default stride=1 and padding=0\n",
    "        self.conv1 = nn.Conv2d(in_channels = 1, out_channels = 6, kernel_size = 3, stride = 1, padding = 0)\n",
    "        self.bn1 = nn.BatchNorm2d(num_features=6)\n",
    "        # The first pooling layer is a maxpool with a square window of kernel_size=2 (default stride is same as kernel_size)\n",
    "        self.pool1 = torch.nn.MaxPool2d(kernel_size=2,stride=2)\n",
    "\n",
    "        # The second convolutional layer\n",
    "        # NOTE: Its in_channels should match the out_channels of conv1\n",
    "        self.conv2 = nn.Conv2d(in_channels = 6, out_channels = 12, kernel_size = 3, stride = 1, padding = 0)\n",
    "        self.bn2 = nn.BatchNorm2d(num_features=12)\n",
    "        # The second pooling layer is maxpool with a square window of kernel_size=2\n",
    "        self.pool2 = torch.nn.MaxPool2d(kernel_size=2,stride=2)\n",
    "        \n",
    "        # The fully-connected layer\n",
    "        self.flatten = nn.Flatten()\n",
    "        self.fc = nn.Linear(300, 10) # Use nn.Linear, and you need to specify the correct in_features and out_features\n",
    "        \n",
    "        # Softmax layer\n",
    "        self.output = nn.LogSoftmax(dim = 1) # Use nn.LogSoftmax(), specify the dim correctly\n",
    "        ### END YOUR CODE ###\n",
    "        \n",
    "    \n",
    "    def forward(self, x):\n",
    "        # Conv1 -> ReLU -> Batchnorm1-> Pool1\n",
    "        x = self.pool1(self.bn1(F.relu(self.conv1(x))))\n",
    "        #to not spam console\n",
    "        #if self.debug:\n",
    "            #print('output shape of pool1:', x.shape)\n",
    "        \n",
    "        ### START YOUR CODE ###\n",
    "        # Conv2 -> ReLU -> Batchnorm2 -> Pool2\n",
    "        x = self.pool2(self.bn2(F.relu(self.conv2(x))))\n",
    "        #if self.debug:\n",
    "            #print('output shape of pool2:', x.shape)\n",
    "        \n",
    "        # Flatten the output from the last pooling layer\n",
    "        x = self.flatten(x)\n",
    "        \n",
    "        # Call the fully-connected layer, followed by a F.relu()\n",
    "        x = F.relu(self.fc(x))\n",
    "        \n",
    "        # Call softmax layer\n",
    "        x = self.output(x)\n",
    "        ### END YOUR CODE ###\n",
    "        \n",
    "        return x"
   ]
  },
  {
   "cell_type": "code",
   "execution_count": 6,
   "metadata": {
    "scrolled": true
   },
   "outputs": [
    {
     "name": "stdout",
     "output_type": "stream",
     "text": [
      "output.size(): torch.Size([64, 10])\n"
     ]
    }
   ],
   "source": [
    "model = ConvNetModel(debug=True) # You can use debug mode to help\n",
    "\n",
    "# Do not change the test code below\n",
    "torch.manual_seed(0)\n",
    "input_data = torch.randn(64, 1, 28, 28)\n",
    "output = model(input_data)\n",
    "\n",
    "print('output.size():', output.size())"
   ]
  },
  {
   "cell_type": "markdown",
   "metadata": {},
   "source": [
    "### Expected output\n",
    "\n",
    "output.size(): torch.Size([64, 10])\n",
    "\n",
    "***\n",
    "\n",
    "## Task 2. Train and evaluate\n",
    "**2 points**\n",
    "\n",
    "Now you will use the functions you have implemented above to build a full model. Then you train the model on the sign language dataset.\n",
    "\n",
    "You can refer to the previous assignment or the official documents: See <https://pytorch.org/docs/stable/generated/torch.nn.CrossEntropyLoss.html> and <https://pytorch.org/docs/stable/optim.html> for more information."
   ]
  },
  {
   "cell_type": "code",
   "execution_count": 7,
   "metadata": {
    "pycharm": {
     "name": "#%%\n"
    }
   },
   "outputs": [],
   "source": [
    "def train_loop(dataloader, model, loss_fn, optimizer, verbose=True):\n",
    "    for i, (X, y) in enumerate(dataloader):\n",
    "        # Compute prediction and loss\n",
    "        ### START YOUR CODE ###\n",
    "        pred = model(X) # Get the prediction output from model\n",
    "        loss = loss_fn(pred, y) # compute loss by calling loss_fn()\n",
    "        ### END YOUR CODE ###\n",
    "\n",
    "        # Backpropagation\n",
    "        ### START YOUR CODE ###\n",
    "        optimizer.zero_grad() # zero_grad()\n",
    "        loss.backward() # backward()\n",
    "        optimizer.step() # step()\n",
    "        ### END YOUR CODE ###\n",
    "\n",
    "        if verbose and i % 100 == 0:\n",
    "            loss = loss.item()\n",
    "            current_step = i * len(X)\n",
    "            print(f\"loss: {loss:>7f}  [{current_step:>5d}/{len(dataloader.dataset):>5d}]\")"
   ]
  },
  {
   "cell_type": "code",
   "execution_count": 8,
   "metadata": {
    "pycharm": {
     "name": "#%%\n"
    }
   },
   "outputs": [],
   "source": [
    "@torch.no_grad()\n",
    "def test_loop(dataloader, model, loss_fn):\n",
    "    test_loss, correct, total = 0, 0, 0\n",
    "\n",
    "    for X, y in dataloader:\n",
    "        ### START YOUR CODE ###\n",
    "        pred = model(X)\n",
    "        loss = loss_fn(pred, y)\n",
    "        test_loss += loss.item()\n",
    "        correct += (torch.eq((torch.argmax(pred, 1)), y).sum()) # Add the number of correct prediction in the current batch to `correct`\n",
    "        total += pred.size(0)\n",
    "        ### END YOUR CODE ###\n",
    "\n",
    "    test_loss /= len(dataloader)\n",
    "    ### START YOUR CODE ###\n",
    "    test_acc = correct / total\n",
    "    ### END YOUR CODE ###\n",
    "\n",
    "    print(f\"Test Error: \\n Accuracy: {(100*test_acc):>0.1f}%, Avg loss: {test_loss:>8f} \\n\")"
   ]
  },
  {
   "cell_type": "markdown",
   "metadata": {},
   "source": [
    "Next, execute the following cell to start the training and testing loop.\n",
    "\n",
    "**Note** that a different loss function, `nn.NLLLoss()` should be used, instead of `nn.CrossEntropyLoss()`, because we already used softmax as the output layer in the model."
   ]
  },
  {
   "cell_type": "code",
   "execution_count": 9,
   "metadata": {
    "pycharm": {
     "name": "#%%\n"
    },
    "scrolled": false
   },
   "outputs": [
    {
     "name": "stdout",
     "output_type": "stream",
     "text": [
      "Epoch 1\n",
      "-------------------------------\n",
      "loss: 2.454626  [    0/60000]\n",
      "loss: 0.782558  [ 6400/60000]\n",
      "loss: 0.355370  [12800/60000]\n",
      "loss: 0.608983  [19200/60000]\n",
      "loss: 0.519031  [25600/60000]\n",
      "loss: 0.484258  [32000/60000]\n",
      "loss: 0.345334  [38400/60000]\n",
      "loss: 0.607723  [44800/60000]\n",
      "loss: 0.477335  [51200/60000]\n",
      "loss: 0.428539  [57600/60000]\n",
      "Test Error: \n",
      " Accuracy: 84.7%, Avg loss: 0.420195 \n",
      "\n",
      "Epoch 2\n",
      "-------------------------------\n",
      "loss: 0.259527  [    0/60000]\n",
      "loss: 0.399758  [ 6400/60000]\n",
      "loss: 0.219427  [12800/60000]\n",
      "loss: 0.558524  [19200/60000]\n",
      "loss: 0.357850  [25600/60000]\n",
      "loss: 0.472287  [32000/60000]\n",
      "loss: 0.249647  [38400/60000]\n",
      "loss: 0.597429  [44800/60000]\n",
      "loss: 0.442314  [51200/60000]\n",
      "loss: 0.378239  [57600/60000]\n",
      "Test Error: \n",
      " Accuracy: 85.7%, Avg loss: 0.392129 \n",
      "\n",
      "Epoch 3\n",
      "-------------------------------\n",
      "loss: 0.247664  [    0/60000]\n",
      "loss: 0.349498  [ 6400/60000]\n",
      "loss: 0.172141  [12800/60000]\n",
      "loss: 0.570136  [19200/60000]\n",
      "loss: 0.321209  [25600/60000]\n",
      "loss: 0.455450  [32000/60000]\n",
      "loss: 0.248847  [38400/60000]\n",
      "loss: 0.589683  [44800/60000]\n",
      "loss: 0.414842  [51200/60000]\n",
      "loss: 0.344216  [57600/60000]\n",
      "Test Error: \n",
      " Accuracy: 86.1%, Avg loss: 0.378675 \n",
      "\n",
      "Epoch 4\n",
      "-------------------------------\n",
      "loss: 0.236711  [    0/60000]\n",
      "loss: 0.329095  [ 6400/60000]\n",
      "loss: 0.149407  [12800/60000]\n",
      "loss: 0.521501  [19200/60000]\n",
      "loss: 0.289935  [25600/60000]\n",
      "loss: 0.453391  [32000/60000]\n",
      "loss: 0.250266  [38400/60000]\n",
      "loss: 0.548716  [44800/60000]\n",
      "loss: 0.382915  [51200/60000]\n",
      "loss: 0.322483  [57600/60000]\n",
      "Test Error: \n",
      " Accuracy: 86.7%, Avg loss: 0.369688 \n",
      "\n",
      "Epoch 5\n",
      "-------------------------------\n",
      "loss: 0.231406  [    0/60000]\n",
      "loss: 0.312643  [ 6400/60000]\n",
      "loss: 0.141107  [12800/60000]\n",
      "loss: 0.500367  [19200/60000]\n",
      "loss: 0.269714  [25600/60000]\n",
      "loss: 0.457364  [32000/60000]\n",
      "loss: 0.250534  [38400/60000]\n",
      "loss: 0.519776  [44800/60000]\n",
      "loss: 0.371074  [51200/60000]\n",
      "loss: 0.313404  [57600/60000]\n",
      "Test Error: \n",
      " Accuracy: 86.7%, Avg loss: 0.362593 \n",
      "\n",
      "Epoch 6\n",
      "-------------------------------\n",
      "loss: 0.230493  [    0/60000]\n",
      "loss: 0.299863  [ 6400/60000]\n",
      "loss: 0.138228  [12800/60000]\n",
      "loss: 0.497315  [19200/60000]\n",
      "loss: 0.257588  [25600/60000]\n",
      "loss: 0.456554  [32000/60000]\n",
      "loss: 0.242081  [38400/60000]\n",
      "loss: 0.492026  [44800/60000]\n",
      "loss: 0.360211  [51200/60000]\n",
      "loss: 0.315194  [57600/60000]\n",
      "Test Error: \n",
      " Accuracy: 87.0%, Avg loss: 0.358931 \n",
      "\n",
      "Epoch 7\n",
      "-------------------------------\n",
      "loss: 0.226093  [    0/60000]\n",
      "loss: 0.289741  [ 6400/60000]\n",
      "loss: 0.142210  [12800/60000]\n",
      "loss: 0.503975  [19200/60000]\n",
      "loss: 0.249237  [25600/60000]\n",
      "loss: 0.467121  [32000/60000]\n",
      "loss: 0.243520  [38400/60000]\n",
      "loss: 0.473294  [44800/60000]\n",
      "loss: 0.341956  [51200/60000]\n",
      "loss: 0.315488  [57600/60000]\n",
      "Test Error: \n",
      " Accuracy: 87.1%, Avg loss: 0.356423 \n",
      "\n",
      "Epoch 8\n",
      "-------------------------------\n",
      "loss: 0.225808  [    0/60000]\n",
      "loss: 0.282620  [ 6400/60000]\n",
      "loss: 0.144043  [12800/60000]\n",
      "loss: 0.502639  [19200/60000]\n",
      "loss: 0.244111  [25600/60000]\n",
      "loss: 0.460856  [32000/60000]\n",
      "loss: 0.237555  [38400/60000]\n",
      "loss: 0.453830  [44800/60000]\n",
      "loss: 0.330727  [51200/60000]\n",
      "loss: 0.320199  [57600/60000]\n",
      "Test Error: \n",
      " Accuracy: 87.3%, Avg loss: 0.353773 \n",
      "\n",
      "Epoch 9\n",
      "-------------------------------\n",
      "loss: 0.225149  [    0/60000]\n",
      "loss: 0.276477  [ 6400/60000]\n",
      "loss: 0.143416  [12800/60000]\n",
      "loss: 0.505862  [19200/60000]\n",
      "loss: 0.241050  [25600/60000]\n",
      "loss: 0.466164  [32000/60000]\n",
      "loss: 0.229377  [38400/60000]\n",
      "loss: 0.439368  [44800/60000]\n",
      "loss: 0.333792  [51200/60000]\n",
      "loss: 0.322090  [57600/60000]\n",
      "Test Error: \n",
      " Accuracy: 87.4%, Avg loss: 0.353946 \n",
      "\n",
      "Epoch 10\n",
      "-------------------------------\n",
      "loss: 0.232605  [    0/60000]\n",
      "loss: 0.271866  [ 6400/60000]\n",
      "loss: 0.144368  [12800/60000]\n",
      "loss: 0.499212  [19200/60000]\n",
      "loss: 0.238952  [25600/60000]\n",
      "loss: 0.463626  [32000/60000]\n",
      "loss: 0.227775  [38400/60000]\n",
      "loss: 0.428837  [44800/60000]\n",
      "loss: 0.330450  [51200/60000]\n",
      "loss: 0.327708  [57600/60000]\n",
      "Test Error: \n",
      " Accuracy: 87.3%, Avg loss: 0.351849 \n",
      "\n",
      "Done!\n"
     ]
    }
   ],
   "source": [
    "model = ConvNetModel() # Reset the model\n",
    "learning_rate = 1e-3\n",
    "\n",
    "\n",
    "### START YOUR CODE ###\n",
    "loss_fn = nn.NLLLoss() # Use the correct loss function\n",
    "### END YOUR CODE ###\n",
    "optimizer = torch.optim.Adam(model.parameters(), lr = learning_rate)\n",
    "\n",
    "epochs = 10\n",
    "for t in range(epochs):\n",
    "    print(f\"Epoch {t+1}\\n-------------------------------\")\n",
    "    ### START YOUR CODE ###\n",
    "    train_loop(train_loader, model, loss_fn, optimizer) # Call train_loop(); use verbose=False, if you want to see less information\n",
    "    test_loop(test_loader, model, loss_fn) # Call test_loop()\n",
    "    ### END YOUR CODE ###\n",
    "\n",
    "print(\"Done!\")"
   ]
  },
  {
   "cell_type": "markdown",
   "metadata": {
    "pycharm": {
     "name": "#%% md\n"
    }
   },
   "source": [
    "### Expected output\n",
    "\n",
    "You should be able to reach above 85% test accuracy.\n",
    "\n",
    "***\n",
    "\n",
    "## Congratulations!\n",
    "Now you have successfully built a convolutional neural network model for image classification! \n",
    "Hopefully this experience of using PyTorch will help you with your final project."
   ]
  }
 ],
 "metadata": {
  "interpreter": {
   "hash": "25f78cd986e649f5a1fa57f7be9a497a8fd91952316ec3e436af56ac9acfc630"
  },
  "kernelspec": {
   "display_name": "Python 3 (ipykernel)",
   "language": "python",
   "name": "python3"
  },
  "language_info": {
   "codemirror_mode": {
    "name": "ipython",
    "version": 3
   },
   "file_extension": ".py",
   "mimetype": "text/x-python",
   "name": "python",
   "nbconvert_exporter": "python",
   "pygments_lexer": "ipython3",
   "version": "3.11.4"
  }
 },
 "nbformat": 4,
 "nbformat_minor": 4
}
